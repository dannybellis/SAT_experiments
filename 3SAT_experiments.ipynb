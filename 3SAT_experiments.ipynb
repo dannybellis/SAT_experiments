{
 "cells": [
  {
   "cell_type": "code",
   "execution_count": 1,
   "id": "7385e9d9",
   "metadata": {},
   "outputs": [],
   "source": [
    "import numpy as np\n",
    "import random\n",
    "import time\n",
    "import os"
   ]
  },
  {
   "cell_type": "code",
   "execution_count": 2,
   "id": "cabb455e",
   "metadata": {},
   "outputs": [],
   "source": [
    "def string2int(s):\n",
    "    if s.isdigit():\n",
    "        return int(s)\n",
    "    elif s.startswith(\"-\") and s[1:].isdigit():\n",
    "        return -1*int(s[1:])\n",
    "    else:\n",
    "        return None"
   ]
  },
  {
   "cell_type": "code",
   "execution_count": 3,
   "id": "7a176a94",
   "metadata": {},
   "outputs": [],
   "source": [
    "def file2cnf(f):\n",
    "    cnf = []\n",
    "    clause = []\n",
    "    for line in f.readlines():\n",
    "        line = line.strip()\n",
    "        if not line.startswith(\"c\") and not line.startswith(\"p\"):\n",
    "            lits = [string2int(var) for var in line.split(\" \") if string2int(var)!=None]\n",
    "            for l in lits:\n",
    "                if l == 0:\n",
    "                    if clause != []:\n",
    "                        cnf.append(clause)\n",
    "                        clause = []\n",
    "                        continue\n",
    "                    else:\n",
    "                        clause = []\n",
    "                        continue\n",
    "                else:\n",
    "                    clause.append(l)\n",
    "    return cnf"
   ]
  },
  {
   "cell_type": "code",
   "execution_count": 4,
   "id": "9617a312",
   "metadata": {},
   "outputs": [],
   "source": [
    "def maxSAT(assignment, cnf):\n",
    "    sat_clauses = 0\n",
    "    for clause in cnf:\n",
    "        for lit in clause:\n",
    "            x = bool(assignment[abs(lit)-1])\n",
    "            if (x and lit>0) or (not x and lit<0):\n",
    "                sat_clauses += 1\n",
    "                break\n",
    "    return sat_clauses"
   ]
  },
  {
   "cell_type": "code",
   "execution_count": 5,
   "id": "1ca5eb74",
   "metadata": {},
   "outputs": [],
   "source": [
    "def makePopulation(pop_size=120, num_genes=20):\n",
    "    pop = []\n",
    "    for i in range(pop_size):\n",
    "        member = np.random.randint(0,2,size=num_genes)\n",
    "        pop.append(member)\n",
    "    return pop"
   ]
  },
  {
   "cell_type": "code",
   "execution_count": 6,
   "id": "598e25c5",
   "metadata": {},
   "outputs": [],
   "source": [
    "def selection(population, cnf, percentage_pop=0.25):\n",
    "    members_and_performance = []\n",
    "    next_round = int(percentage_pop*len(population))\n",
    "    best_perf = 0\n",
    "    best_vars = None\n",
    "    perf = 0\n",
    "    for individual in population:\n",
    "        performance = maxSAT(individual, cnf)\n",
    "        pair = (individual, performance)\n",
    "        members_and_performance.append(pair)\n",
    "        perf+=performance\n",
    "        if performance >= best_perf:\n",
    "            best_perf = performance\n",
    "            best_vars = individual\n",
    "\n",
    "#     print(best_perf, best_vars, perf/len(population))\n",
    "    nextGen = [mem for mem, perf in sorted(members_and_performance, reverse=True, key=lambda x: x[1])][:next_round]\n",
    "    return nextGen"
   ]
  },
  {
   "cell_type": "code",
   "execution_count": 7,
   "id": "e23723ad",
   "metadata": {},
   "outputs": [],
   "source": [
    "def uniformCrossover(population, pop_size=120, common_genes=0.5, pr_mutation=1.0):\n",
    "    newPop = population\n",
    "    while len(newPop)<pop_size:\n",
    "        \n",
    "        parent1_idx = random.randint(0,len(population)-1)\n",
    "        parent2_idx = random.randint(0,len(population)-1)\n",
    "        \n",
    "        while parent1_idx == parent2_idx:\n",
    "            parent1_idx = random.randint(0,len(population)-1)\n",
    "            parent2_idx = random.randint(0,len(population)-1)\n",
    "        \n",
    "        parent1 = population[parent1_idx]\n",
    "        parent2 = population[parent2_idx]\n",
    "        \n",
    "        child = []\n",
    "        \n",
    "        for i in range(len(parent1)):\n",
    "            if random.random() <= common_genes:\n",
    "                child.append(parent1[i])\n",
    "            else:\n",
    "                child.append(parent2[i])\n",
    "\n",
    "        if random.random() <= pr_mutation:\n",
    "            mutation_idx = random.randint(0, len(child)-1)\n",
    "            \n",
    "            if child[mutation_idx] == 1:\n",
    "                child[mutation_idx] = 0\n",
    "                \n",
    "            else:\n",
    "                child[mutation_idx] = 1\n",
    "        \n",
    "        newPop.append(child)\n",
    "        \n",
    "    return newPop"
   ]
  },
  {
   "cell_type": "code",
   "execution_count": 8,
   "id": "830800b4",
   "metadata": {},
   "outputs": [],
   "source": [
    "def localSearchInnerLoop(assignment, cnf):\n",
    "    unsatisfied = []\n",
    "    for clause in cnf:\n",
    "        evaluated = False\n",
    "        for lit in clause:\n",
    "            x = bool(assignment[abs(lit)-1])\n",
    "            if (x and lit>0) or (not x and lit<0):\n",
    "                evaluated = True\n",
    "                break\n",
    "        if not evaluated:\n",
    "            unsatisfied.extend([abs(lit)-1 for lit in clause])\n",
    "    random_flip = random.choice(unsatisfied)\n",
    "    if assignment[random_flip]==1:\n",
    "        assignment[random_flip]=0\n",
    "    else:\n",
    "        assignment[random_flip]=1\n",
    "    return assignment"
   ]
  },
  {
   "cell_type": "code",
   "execution_count": 9,
   "id": "3c2887a1",
   "metadata": {},
   "outputs": [],
   "source": [
    "def satisfied(clause, assignment):\n",
    "    for lit in clause:\n",
    "        x = bool(assignment[abs(lit)-1])\n",
    "        if (x and lit>0) or (not x and lit<0):\n",
    "            return True\n",
    "    return False"
   ]
  },
  {
   "cell_type": "code",
   "execution_count": 10,
   "id": "8aaa7d40",
   "metadata": {},
   "outputs": [],
   "source": [
    "def allSatisfied(assignment, cnf):\n",
    "    sat_clauses = 0\n",
    "    for clause in cnf: \n",
    "        if not satisfied(clause, assignment):\n",
    "            return False\n",
    "    return True"
   ]
  },
  {
   "cell_type": "code",
   "execution_count": 11,
   "id": "5c9920f5",
   "metadata": {},
   "outputs": [],
   "source": [
    "def localSearch(population, cnf, iters=8000):\n",
    "    newPop = []\n",
    "    for assignment in population:\n",
    "        if allSatisfied(assignment, cnf):\n",
    "            return [assignment]\n",
    "        for i in range(iters):\n",
    "            assignment = localSearchInnerLoop(assignment, cnf)\n",
    "            if allSatisfied(assignment, cnf):\n",
    "                return [assignment]\n",
    "        newPop.append(assignment)\n",
    "    return newPop"
   ]
  },
  {
   "cell_type": "code",
   "execution_count": 12,
   "id": "3f123af8",
   "metadata": {},
   "outputs": [],
   "source": [
    "def localSearchHC(population, cnf, iters=8000):\n",
    "    newPop = []\n",
    "    for assignment in population:\n",
    "        perf = maxSAT(assignment, cnf)\n",
    "        assignment = assignment\n",
    "        if allSatisfied(assignment, cnf):\n",
    "            return [assignment]\n",
    "        for i in range(iters):\n",
    "            new_assignment = localSearchInnerLoop(assignment, cnf)\n",
    "            ms = maxSAT(new_assignment, cnf)\n",
    "            if ms == len(cnf):\n",
    "                return [assignment]\n",
    "            elif ms >= perf:\n",
    "                perf = ms\n",
    "                assignment = new_assignment\n",
    "        newPop.append(assignment)\n",
    "    return newPop"
   ]
  },
  {
   "cell_type": "code",
   "execution_count": 15,
   "id": "4bd3cf1f",
   "metadata": {},
   "outputs": [],
   "source": [
    "def geneticAlgo(cnf, pop_size=24, gens=200, lsi=25, num_genes=100, search_local=False, hill_climb=False):\n",
    "    max_gens = 0\n",
    "    start = time.time()\n",
    "    population = makePopulation(pop_size=pop_size, num_genes=num_genes)\n",
    "    for i in range(gens):\n",
    "        max_gens = i+1\n",
    "        population = selection(population, cnf, percentage_pop=0.25)\n",
    "        population = uniformCrossover(population, pop_size=pop_size, common_genes=0.5, pr_mutation=1)\n",
    "        if search_local:\n",
    "            if (i+1)%5==0:\n",
    "                population = localSearch(population, cnf, lsi)\n",
    "                if len(population)==1:\n",
    "                    break\n",
    "        if hill_climb:\n",
    "            if (i+1)%5==0:\n",
    "                population = localSearchHC(population, cnf, lsi)\n",
    "                if len(population)==1:\n",
    "                    break\n",
    "\n",
    "    t = time.time()-start\n",
    "    best_assignment = None\n",
    "    best_performance = 0\n",
    "    for assignment in population:\n",
    "        performance = maxSAT(assignment, cnf)\n",
    "        if performance >= best_performance:\n",
    "            best_performance = performance\n",
    "            best_assignment = assignment\n",
    "\n",
    "    return max_gens, t, best_performance"
   ]
  },
  {
   "cell_type": "code",
   "execution_count": null,
   "id": "2a0d4e8f",
   "metadata": {
    "scrolled": false
   },
   "outputs": [],
   "source": [
    "import os\n",
    "path = 'cnfs/uf175-753'\n",
    "files = os.listdir(path)\n",
    "n_genes=175\n",
    "time_list=[]\n",
    "gen_list = []\n",
    "perf_list = []\n",
    "for file in files:\n",
    "    f = open(path+'/'+file, \"r\")\n",
    "    cnf = file2cnf(f)\n",
    "    f.close()\n",
    "    g, t, p = geneticAlgo(cnf,num_genes=n_genes, gens=150, hill_climb=True)\n",
    "    time_list.append(t)\n",
    "    gen_list.append(g)\n",
    "    perf_list.append(p)\n",
    "print(np.mean(time_list), np.mean(gen_list),np.mean(perf_list))"
   ]
  },
  {
   "cell_type": "code",
   "execution_count": null,
   "id": "b8a2895d",
   "metadata": {
    "scrolled": true
   },
   "outputs": [],
   "source": [
    "time_list=[]\n",
    "gen_list = []\n",
    "perf_list = []\n",
    "for file in files:\n",
    "    f = open(path+'/'+file, \"r\")\n",
    "    cnf = file2cnf(f)\n",
    "    f.close()\n",
    "    g, t, p = geneticAlgo(cnf,num_genes=n_genes, gens=150, search_local=True)\n",
    "    time_list.append(t)\n",
    "    gen_list.append(g)\n",
    "    perf_list.append(p)\n",
    "print(np.mean(time_list), np.mean(gen_list),np.mean(perf_list))"
   ]
  },
  {
   "cell_type": "code",
   "execution_count": 697,
   "id": "9d3370d9",
   "metadata": {
    "scrolled": true
   },
   "outputs": [
    {
     "name": "stdout",
     "output_type": "stream",
     "text": [
      "1.1714184856414795 150.0 740.28\n"
     ]
    }
   ],
   "source": [
    "time_list=[]\n",
    "gen_list = []\n",
    "perf_list = []\n",
    "for file in files:\n",
    "    f = open(path+'/'+file, \"r\")\n",
    "    cnf = file2cnf(f)\n",
    "    f.close()\n",
    "    g, t, p = geneticAlgo(cnf,num_genes=n_genes, gens=150)\n",
    "    time_list.append(t)\n",
    "    gen_list.append(g)\n",
    "    perf_list.append(p)\n",
    "print(np.mean(time_list), np.mean(gen_list),np.mean(perf_list))"
   ]
  },
  {
   "cell_type": "code",
   "execution_count": 702,
   "id": "159376f4",
   "metadata": {},
   "outputs": [],
   "source": [
    "num_vars = [20,50,75,100,125,150,175]\n",
    "num_clauses = [91,218,325,430,538,645,753]\n",
    "\n",
    "hc_time = [0.03467469215, 1.300085244,3.549335899, 5.427012806,\n",
    "           7.568920116,10.08174941,12.6621181]\n",
    "hc_gens = [6.7,58,104,117.8,133,141.2,149.4]\n",
    "hc_sat = [91,217.38,322.56,427.04,533.48,639.4,744.32]\n",
    "\n",
    "ls_time = [0.02721810818,0.881681633,1.865428524,3.358934298,\n",
    "           4.399652815,5.660552225,6.866606035]\n",
    "ls_gens = [6.5,62.4,89.2,124.4,132.4,137.4,148.2]\n",
    "ls_sat = [91,217.52,323.48,426.64,533.72,638.84,744.92]\n",
    "\n",
    "gen_time = [0.1637220192,0.373471756,0.5621363449,0.6701219559,\n",
    "            0.8502110672,1.005866175,1.171418486]\n",
    "gen_gens = [150,150,150,150,150,150,150]\n",
    "gen_sat = [90.36,215.7,320.44,423.4,531,635.52,740.28]\n"
   ]
  },
  {
   "cell_type": "code",
   "execution_count": 704,
   "id": "f54b806c",
   "metadata": {},
   "outputs": [
    {
     "data": {
      "image/png": "[encoded data removed]",
      "text/plain": [
       "<Figure size 432x288 with 1 Axes>"
      ]
     },
     "metadata": {
      "needs_background": "light"
     },
     "output_type": "display_data"
    }
   ],
   "source": [
    "import matplotlib.pyplot as plt\n",
    "\n",
    "plt.title(\"# of Variables vs. Average Run Time\")\n",
    "plt.xlabel(\"# Variables\")\n",
    "plt.ylabel(\"Avg. Run Time\")\n",
    "plt.plot(num_vars, hc_time, color='red')\n",
    "plt.plot(num_vars, ls_time, color='green')\n",
    "plt.plot(num_vars, gen_time, color='blue')\n",
    "plt.legend([\"Hill Climb Hybrid\", \"Local Search Hybrid\", \"Genetic Algorithm\"])\n",
    "plt.show()\n"
   ]
  },
  {
   "cell_type": "code",
   "execution_count": 708,
   "id": "e5e65d19",
   "metadata": {},
   "outputs": [
    {
     "data": {
      "image/png": "[encoded data removed]",
      "text/plain": [
       "<Figure size 432x288 with 1 Axes>"
      ]
     },
     "metadata": {
      "needs_background": "light"
     },
     "output_type": "display_data"
    }
   ],
   "source": [
    "plt.title(\"# of Clauses vs. % Satisfied Clauses\")\n",
    "plt.xlabel(\"# Clauses\")\n",
    "plt.ylabel(\"% Satisfied Clauses\")\n",
    "plt.plot(num_clauses, np.divide(hc_sat,num_clauses), color='red')\n",
    "plt.plot(num_clauses, np.divide(ls_sat,num_clauses), color='green')\n",
    "plt.plot(num_clauses, np.divide(gen_sat,num_clauses), color='blue')\n",
    "plt.legend([\"Hill Climb Hybrid\", \"Local Search Hybrid\", \"Genetic Algorithm\"])\n",
    "plt.show()\n"
   ]
  },
  {
   "cell_type": "code",
   "execution_count": 710,
   "id": "52c05d8c",
   "metadata": {},
   "outputs": [
    {
     "data": {
      "image/png": "[encoded data removed]",
      "text/plain": [
       "<Figure size 432x288 with 1 Axes>"
      ]
     },
     "metadata": {
      "needs_background": "light"
     },
     "output_type": "display_data"
    }
   ],
   "source": [
    "plt.title(\"# of Clauses vs. # Generations\")\n",
    "plt.xlabel(\"# Clauses\")\n",
    "plt.ylabel(\"# Generations\")\n",
    "plt.plot(num_clauses, hc_gens, color='red')\n",
    "plt.plot(num_clauses, ls_gens, color='green')\n",
    "plt.plot(num_clauses, gen_gens, color='blue')\n",
    "plt.legend([\"Hill Climb Hybrid\", \"Local Search Hybrid\", \"Genetic Algorithm\"])\n",
    "plt.show()\n"
   ]
  },
  {
   "cell_type": "code",
   "execution_count": null,
   "id": "23a66cda",
   "metadata": {},
   "outputs": [],
   "source": []
  }
 ],
 "metadata": {
  "kernelspec": {
   "display_name": "Python 3 (ipykernel)",
   "language": "python",
   "name": "python3"
  },
  "language_info": {
   "codemirror_mode": {
    "name": "ipython",
    "version": 3
   },
   "file_extension": ".py",
   "mimetype": "text/x-python",
   "name": "python",
   "nbconvert_exporter": "python",
   "pygments_lexer": "ipython3",
   "version": "3.7.11"
  }
 },
 "nbformat": 4,
 "nbformat_minor": 5
}
